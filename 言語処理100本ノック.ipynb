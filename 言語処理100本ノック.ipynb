{
  "nbformat": 4,
  "nbformat_minor": 0,
  "metadata": {
    "colab": {
      "provenance": [],
      "authorship_tag": "ABX9TyOvgETPss4sQi1Nh3rq98FQ",
      "include_colab_link": true
    },
    "kernelspec": {
      "name": "python3",
      "display_name": "Python 3"
    },
    "language_info": {
      "name": "python"
    }
  },
  "cells": [
    {
      "cell_type": "markdown",
      "metadata": {
        "id": "view-in-github",
        "colab_type": "text"
      },
      "source": [
        "<a href=\"https://colab.research.google.com/github/tar0t/MLLearning/blob/main/%E8%A8%80%E8%AA%9E%E5%87%A6%E7%90%86100%E6%9C%AC%E3%83%8E%E3%83%83%E3%82%AF.ipynb\" target=\"_parent\"><img src=\"https://colab.research.google.com/assets/colab-badge.svg\" alt=\"Open In Colab\"/></a>"
      ]
    },
    {
      "cell_type": "code",
      "execution_count": null,
      "metadata": {
        "id": "BGHi77r3_QKR",
        "colab": {
          "base_uri": "https://localhost:8080/"
        },
        "outputId": "70a724d7-2cf1-4361-8f47-ec347d2f0196"
      },
      "outputs": [
        {
          "output_type": "stream",
          "name": "stdout",
          "text": [
            "desserts\n"
          ]
        }
      ],
      "source": [
        "# 1-00\n",
        "s = \"stressed\"\n",
        "print(s[::-1])"
      ]
    },
    {
      "cell_type": "code",
      "source": [
        "# 1-01\n",
        "s = \"パタトクカシーー\"\n",
        "print(s[0::2])\n",
        "print(s[1::2])"
      ],
      "metadata": {
        "colab": {
          "base_uri": "https://localhost:8080/"
        },
        "id": "r0BxS0DGCkWa",
        "outputId": "c07ea6a8-e492-48d1-aa4d-6116ec1530b6"
      },
      "execution_count": null,
      "outputs": [
        {
          "output_type": "stream",
          "name": "stdout",
          "text": [
            "パトカー\n",
            "タクシー\n"
          ]
        }
      ]
    },
    {
      "cell_type": "code",
      "source": [
        "# 1-02\n",
        "s1 = \"パトカー\"\n",
        "s2 = \"タクシー\"\n",
        "print(''.join(''.join(s) for s in zip(s1,s2)))"
      ],
      "metadata": {
        "colab": {
          "base_uri": "https://localhost:8080/"
        },
        "id": "tURio7joC3Bb",
        "outputId": "d5af1d3a-4605-4cd6-f4f2-a548d3b3a52d"
      },
      "execution_count": null,
      "outputs": [
        {
          "output_type": "stream",
          "name": "stdout",
          "text": [
            "パタトクカシーー\n"
          ]
        }
      ]
    },
    {
      "cell_type": "code",
      "source": [
        "# 1-03\n",
        "s = \"Now I need a drink, alcoholic of course, after the heavy lectures involving quantum mechanics.\"\n",
        "print([len([c for c in list(w) if c.isalpha()]) for w in s.split(' ')])\n"
      ],
      "metadata": {
        "colab": {
          "base_uri": "https://localhost:8080/"
        },
        "id": "4BKC0LsOELuW",
        "outputId": "97ed9f4e-788c-4b1a-f96e-ba241ffaa84c"
      },
      "execution_count": null,
      "outputs": [
        {
          "output_type": "stream",
          "name": "stdout",
          "text": [
            "[3, 1, 4, 1, 5, 9, 2, 6, 5, 3, 5, 8, 9, 7, 9]\n"
          ]
        }
      ]
    },
    {
      "cell_type": "code",
      "source": [
        "# 1-04\n",
        "s = \"Hi He Lied Because Boron Could Not Oxidize Fluorine. New Nations Might Also Sign Peace Security Clause. Arthur King Can.\"\n",
        "indexes = [1, 5, 6, 7, 8, 9, 15, 16, 19]\n",
        "words = [w[:2] for w in s.split(' ')]\n",
        "for i in indexes:\n",
        "  words[i-1] = words[i-1][:1]\n",
        "result = {}\n",
        "for i in range(0, len(words)):\n",
        "  result[words[i]] = i\n",
        "print(result)"
      ],
      "metadata": {
        "colab": {
          "base_uri": "https://localhost:8080/"
        },
        "id": "FGXsjab0GXdE",
        "outputId": "c75f9822-4c4d-42b6-8b98-45e5fcb4628b"
      },
      "execution_count": null,
      "outputs": [
        {
          "output_type": "stream",
          "name": "stdout",
          "text": [
            "{'H': 0, 'He': 1, 'Li': 2, 'Be': 3, 'B': 4, 'C': 5, 'N': 6, 'O': 7, 'F': 8, 'Ne': 9, 'Na': 10, 'Mi': 11, 'Al': 12, 'Si': 13, 'P': 14, 'S': 15, 'Cl': 16, 'Ar': 17, 'K': 18, 'Ca': 19}\n"
          ]
        }
      ]
    },
    {
      "cell_type": "code",
      "source": [
        "# 1-05\n",
        "s = \"I am an NLPer\"\n",
        "words = s.split(' ')\n",
        "print(list(zip(words, words[1:])))\n",
        "chars = list(s.replace(' ',''))\n",
        "print(list(zip(chars, chars[1:])))\n"
      ],
      "metadata": {
        "colab": {
          "base_uri": "https://localhost:8080/"
        },
        "id": "HnUhVptqI5A7",
        "outputId": "bdf6f164-2aa8-4854-e230-2e948ea02142"
      },
      "execution_count": null,
      "outputs": [
        {
          "output_type": "stream",
          "name": "stdout",
          "text": [
            "[('I', 'am'), ('am', 'an'), ('an', 'NLPer')]\n",
            "[('I', 'a'), ('a', 'm'), ('m', 'a'), ('a', 'n'), ('n', 'N'), ('N', 'L'), ('L', 'P'), ('P', 'e'), ('e', 'r')]\n"
          ]
        }
      ]
    },
    {
      "cell_type": "code",
      "source": [
        "# 1-06\n",
        "s1 = \"paraparaparadise\"\n",
        "s2 = \"paragraph\"\n",
        "X = set(zip(s1,s1[1:]))\n",
        "Y = set(zip(s2,s2[1:]))\n",
        "print(X)\n",
        "print(Y)\n",
        "print(X.union(Y))\n",
        "print(X.intersection(Y))\n",
        "print(X.difference(Y))\n"
      ],
      "metadata": {
        "colab": {
          "base_uri": "https://localhost:8080/"
        },
        "id": "tlHIKn6iKOsG",
        "outputId": "a71a8b21-442e-481c-c7fe-a6502833cd69"
      },
      "execution_count": null,
      "outputs": [
        {
          "output_type": "stream",
          "name": "stdout",
          "text": [
            "{('d', 'i'), ('i', 's'), ('a', 'd'), ('r', 'a'), ('a', 'r'), ('s', 'e'), ('p', 'a'), ('a', 'p')}\n",
            "{('g', 'r'), ('r', 'a'), ('a', 'r'), ('p', 'a'), ('a', 'g'), ('p', 'h'), ('a', 'p')}\n",
            "{('g', 'r'), ('d', 'i'), ('i', 's'), ('a', 'd'), ('r', 'a'), ('a', 'r'), ('s', 'e'), ('p', 'a'), ('a', 'g'), ('p', 'h'), ('a', 'p')}\n",
            "{('p', 'a'), ('a', 'r'), ('a', 'p'), ('r', 'a')}\n",
            "{('d', 'i'), ('i', 's'), ('s', 'e'), ('a', 'd')}\n"
          ]
        }
      ]
    },
    {
      "cell_type": "code",
      "source": [
        "# 1-07\n",
        "def generate_sentense(x:int, y:str, z:float):\n",
        "  return f\"{x}時の{y}は{z}\"\n",
        "\n",
        "print(generate_sentense(x=12, y=\"気温\", z=22.4))"
      ],
      "metadata": {
        "colab": {
          "base_uri": "https://localhost:8080/"
        },
        "id": "tLUKNkrkLDDT",
        "outputId": "16432986-fdaa-4699-e18a-8ce0141d3f63"
      },
      "execution_count": null,
      "outputs": [
        {
          "output_type": "stream",
          "name": "stdout",
          "text": [
            "12時の気温は22.4\n"
          ]
        }
      ]
    },
    {
      "cell_type": "code",
      "source": [
        "# 1-08\n",
        "def cipher(s:str):\n",
        "  decoded = [chr(219 - ord(c)) if c.isalpha() and c.islower() else c for c in list(s)]\n",
        "  return ''.join(decoded)\n",
        "\n",
        "s = \"I couldn’t believe that I could actually understand what I was reading : the phenomenal power of the human mind .\"\n",
        "print(cipher(s))\n",
        "print(cipher(cipher(s)))\n"
      ],
      "metadata": {
        "colab": {
          "base_uri": "https://localhost:8080/"
        },
        "id": "gRRfnLG0LcIV",
        "outputId": "44b459f8-876f-4188-aa87-aafcfc8bc1a7"
      },
      "execution_count": null,
      "outputs": [
        {
          "output_type": "stream",
          "name": "stdout",
          "text": [
            "I xlfowm’g yvorvev gszg I xlfow zxgfzoob fmwvihgzmw dszg I dzh ivzwrmt : gsv ksvmlnvmzo kldvi lu gsv sfnzm nrmw .\n",
            "I couldn’t believe that I could actually understand what I was reading : the phenomenal power of the human mind .\n"
          ]
        }
      ]
    }
  ]
}