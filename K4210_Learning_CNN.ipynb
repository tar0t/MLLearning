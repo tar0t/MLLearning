{
  "nbformat": 4,
  "nbformat_minor": 0,
  "metadata": {
    "colab": {
      "provenance": [],
      "authorship_tag": "ABX9TyMsRmMrwsHU5XQnwba76abG",
      "include_colab_link": true
    },
    "kernelspec": {
      "name": "python3",
      "display_name": "Python 3"
    },
    "language_info": {
      "name": "python"
    }
  },
  "cells": [
    {
      "cell_type": "markdown",
      "metadata": {
        "id": "view-in-github",
        "colab_type": "text"
      },
      "source": [
        "<a href=\"https://colab.research.google.com/github/tar0t/MLLearning/blob/main/K4210_Learning_CNN.ipynb\" target=\"_parent\"><img src=\"https://colab.research.google.com/assets/colab-badge.svg\" alt=\"Open In Colab\"/></a>"
      ]
    },
    {
      "cell_type": "markdown",
      "source": [
        "# CNNの勉強\n",
        "\n",
        "## CNNの概要\n",
        "\n",
        "グリッド状データを処理するために設計されたDNN\n",
        "\n",
        "入力データの構造（高さ、幅、チャンネル）を保ったまま特徴を抽出する。\n",
        "\n",
        "全結合層では、入力データは全てのノードに送られるため構造は保持されず、位置ずれや変形の影響を受けやすい。（e.x. コグニトロン）\n",
        "\n",
        "畳み込み層、プーリング層、全結合層を組み合わせて構築される。\n",
        "\n",
        "パターン認識の2つの特性を反映するように構成されている。\n",
        "\n",
        "1. 局所的なパターンへの注目\n",
        "2. シフト不変性\n",
        "\n",
        "## CNNの歴史（問題意識）\n",
        "\n",
        "- 1958 ヒューベルとウィーゼルが人間の視覚野の神経細胞が\n",
        "  局所的なパターンへの反応性と位置ずれを許容するシフト不変性を持つことを発見\n",
        "  単純細胞と複雑細胞の2つの細胞でモデル化\n",
        "- 1979 福島邦彦がネオコグニトロンを提案\n",
        "  - 狭い範囲の入力を受け取って特徴を抽出するS細胞（畳み込み層に類似）\n",
        "  - いくつかのS細胞の出力をうけとってまとめるC細胞（プーリング層に類似）\n",
        "  - カーネルの学習方法は教師無し学習で*勾配降下法ではない*\n",
        "- 1998 ヤン・ルカンがニューラルネットワークの学習に\n",
        "  バックプロパゲーションを導入し手書き文字（小切手のサイン）の認識に適用\n",
        "- 2009 フェイ・フェイ・リが大規模な画像データセットImageNetを公表した\n",
        "\n",
        "## CNNの構造\n",
        "\n",
        "## CNNの用途\n",
        "\n"
      ],
      "metadata": {
        "id": "18oLYfHFFZNo"
      }
    },
    {
      "cell_type": "code",
      "execution_count": null,
      "metadata": {
        "id": "sAzrU7xgFUmj"
      },
      "outputs": [],
      "source": []
    }
  ]
}